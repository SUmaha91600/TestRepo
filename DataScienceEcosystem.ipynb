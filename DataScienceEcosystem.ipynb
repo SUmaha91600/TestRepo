{
 "cells": [
  {
   "cell_type": "markdown",
   "id": "ef31d251-f34e-4493-acf0-a7e5e5214541",
   "metadata": {},
   "source": [
    "## Data Science Tools and Ecosystm"
   ]
  },
  {
   "cell_type": "markdown",
   "id": "bb0ad4f3-2bf7-4506-b213-18e65ffc6395",
   "metadata": {},
   "source": [
    "In this notebook, Data Science Tools and Ecosystems are summarized. "
   ]
  },
  {
   "cell_type": "markdown",
   "id": "99d80ce7-6eee-4d75-a0cc-12bc70b2d736",
   "metadata": {},
   "source": [
    "**Objectives**:\n",
    "1. List popular languages for Data Science\n",
    "1. Identify common libraries used in Data Science\n",
    "1. Describe the role of Data Science in real world applications\n",
    "1. Explain the significance of Big Data and Machine Learning\n",
    "1. Explore Data Science tools and development environments   "
   ]
  },
  {
   "cell_type": "markdown",
   "id": "13e13c19-e2b4-4337-83b5-44a1890915b6",
   "metadata": {},
   "source": [
    "Some of the popular languages that Data Scienctists use are:\n"
   ]
  },
  {
   "cell_type": "markdown",
   "id": "23246142-0d2e-45a4-b007-1fc35854c949",
   "metadata": {},
   "source": [
    "1. Python\n",
    "1. R\n",
    "1. Java "
   ]
  },
  {
   "cell_type": "markdown",
   "id": "ac4e4d44-5b3b-455a-ae2a-7af53280d693",
   "metadata": {},
   "source": [
    "Some of the commonly used libraries used by Data Scientists include:"
   ]
  },
  {
   "cell_type": "markdown",
   "id": "e0d46d30-7114-48b9-8472-a2c5c97a90a2",
   "metadata": {},
   "source": [
    "1. Numpy\n",
    "1. Keras\n",
    "1. Pandas"
   ]
  },
  {
   "cell_type": "markdown",
   "id": "aec172d0-e484-4b86-bc41-845d0287f672",
   "metadata": {},
   "source": [
    "\n",
    "| Data Science Tools|\n",
    "| ------------ |\n",
    "| Jupyter notebook |\n",
    "| Rstudio |\n",
    "| Apache Zeppelin |"
   ]
  },
  {
   "cell_type": "markdown",
   "id": "817d8d16-65d6-4f11-b33c-65be93ceb9e6",
   "metadata": {},
   "source": [
    "### Below are a few exmaples of evalueating arithmetic expressions in Phyton."
   ]
  },
  {
   "cell_type": "code",
   "execution_count": 3,
   "id": "c7e24b58-1c0c-4268-9d32-d21bfe7d9907",
   "metadata": {},
   "outputs": [
    {
     "data": {
      "text/plain": [
       "17"
      ]
     },
     "execution_count": 3,
     "metadata": {},
     "output_type": "execute_result"
    }
   ],
   "source": [
    "# This is a simple aarithmetic expression to multiply then add integers\n",
    "(3*4)+5"
   ]
  },
  {
   "cell_type": "code",
   "execution_count": 4,
   "id": "d4ac18a5-ba99-4953-b9bb-ed7f31780547",
   "metadata": {},
   "outputs": [
    {
     "data": {
      "text/plain": [
       "3.3333333333333335"
      ]
     },
     "execution_count": 4,
     "metadata": {},
     "output_type": "execute_result"
    }
   ],
   "source": [
    "# This will convert 200 minutes to hours by diving by 60\n",
    "200/60"
   ]
  },
  {
   "cell_type": "markdown",
   "id": "35a64cb7-5abf-4bb6-b689-2c0cee3858e5",
   "metadata": {},
   "source": [
    "## Author\n",
    "Mahadevan Sutharsan"
   ]
  },
  {
   "cell_type": "code",
   "execution_count": null,
   "id": "40e4ddf0-64a2-4836-a876-246970998b30",
   "metadata": {},
   "outputs": [],
   "source": []
  }
 ],
 "metadata": {
  "kernelspec": {
   "display_name": "Python 3 (ipykernel)",
   "language": "python",
   "name": "python3"
  },
  "language_info": {
   "codemirror_mode": {
    "name": "ipython",
    "version": 3
   },
   "file_extension": ".py",
   "mimetype": "text/x-python",
   "name": "python",
   "nbconvert_exporter": "python",
   "pygments_lexer": "ipython3",
   "version": "3.13.0"
  }
 },
 "nbformat": 4,
 "nbformat_minor": 5
}
